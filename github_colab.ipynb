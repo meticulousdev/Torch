{
  "cells": [
    {
      "cell_type": "code",
      "execution_count": null,
      "metadata": {
        "id": "bgPsTUKcv_LW"
      },
      "outputs": [],
      "source": [
        "from google.colab import drive\n",
        "drive.mount('/content/drive')\n",
        "\n",
        "%cd /content/drive/MyDrive/Colab\\ Notebooks/"
      ]
    },
    {
      "cell_type": "code",
      "execution_count": null,
      "metadata": {
        "id": "_C94tiWXvvyU"
      },
      "outputs": [],
      "source": [
        "# !git clone https://[username]:[access token]@github.com/[username]/[repository name].git"
      ]
    },
    {
      "cell_type": "code",
      "execution_count": null,
      "metadata": {
        "id": "eB_vVs9Jwcql"
      },
      "outputs": [],
      "source": [
        "from google.colab import drive\n",
        "drive.mount('/content/drive')\n",
        "\n",
        "%cd /content/drive/MyDrive/Colab\\ Notebooks/[repository name]"
      ]
    },
    {
      "cell_type": "code",
      "execution_count": null,
      "metadata": {
        "id": "DJn24I5JxbcV"
      },
      "outputs": [],
      "source": [
        "!git config --global user.email \"meticulousdev@gmail.com\"\n",
        "!git config --global user.name \"meticulousdev\""
      ]
    },
    {
      "cell_type": "code",
      "execution_count": null,
      "metadata": {
        "id": "tRGxkBZpyqUr"
      },
      "outputs": [],
      "source": [
        "!git config --global user.email\n",
        "!git config --global user.name"
      ]
    },
    {
      "cell_type": "code",
      "execution_count": null,
      "metadata": {
        "id": "3s5n0eDlwmrt"
      },
      "outputs": [],
      "source": [
        "!git status"
      ]
    },
    {
      "cell_type": "code",
      "execution_count": null,
      "metadata": {
        "id": "o-Iga_xRwUEB"
      },
      "outputs": [],
      "source": [
        "!git add -A"
      ]
    },
    {
      "cell_type": "code",
      "execution_count": null,
      "metadata": {
        "id": "PlcV3pHOwWhF"
      },
      "outputs": [],
      "source": [
        "!git commit -m \"colab test\""
      ]
    },
    {
      "cell_type": "code",
      "execution_count": null,
      "metadata": {
        "id": "yExGfouvwZRG"
      },
      "outputs": [],
      "source": [
        "!git push"
      ]
    }
  ],
  "metadata": {
    "colab": {
      "collapsed_sections": [],
      "provenance": []
    },
    "kernelspec": {
      "display_name": "Python 3",
      "name": "python3"
    },
    "language_info": {
      "name": "python"
    }
  },
  "nbformat": 4,
  "nbformat_minor": 0
}
