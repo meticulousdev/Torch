{
 "cells": [
  {
   "cell_type": "markdown",
   "metadata": {},
   "source": [
    "1. LeNet-5\n",
    "\n",
    "- 1995년 얀 르쿤이 합성곱 신경망 개념을 개발하면서 사용한 모델\n",
    "\n",
    "- 합성곱(convolutional)과 다운 샘플링(sub-sampling 혹은 polling)을 사용하여 사진 분류"
   ]
  },
  {
   "cell_type": "code",
   "execution_count": null,
   "metadata": {},
   "outputs": [],
   "source": [
    "# ----------------------------------------------------------------\n",
    "#         Layer (type)               Output Shape         Param #\n",
    "# ================================================================\n",
    "#             Conv2d-1         [-1, 16, 220, 220]           1,216\n",
    "#               ReLU-2         [-1, 16, 220, 220]               0\n",
    "#          MaxPool2d-3         [-1, 16, 110, 110]               0\n",
    "#             Conv2d-4         [-1, 32, 106, 106]          12,832\n",
    "#               ReLU-5         [-1, 32, 106, 106]               0\n",
    "#          MaxPool2d-6           [-1, 32, 53, 53]               0\n",
    "#             Linear-7                  [-1, 512]      46,023,168\n",
    "#             Linear-8                    [-1, 2]           1,026\n",
    "#            Softmax-9                    [-1, 2]               0\n",
    "# ================================================================\n",
    "# Total params: 46,038,242\n",
    "# Trainable params: 46,038,242\n",
    "# Non-trainable params: 0\n",
    "# ----------------------------------------------------------------"
   ]
  },
  {
   "cell_type": "markdown",
   "metadata": {},
   "source": [
    "2. AlexNet\n",
    "\n",
    "- LeNet-5와 구조에서는 유사\n",
    "\n",
    "- 2개의 GPU에 병렬로 연산 (코드에 어떻게 구현되어 있는지 봐보기)\n",
    "\n",
    "- 책 상의 GPU의 결과 확인해보기 (필터로 추정됨)"
   ]
  }
 ],
 "metadata": {
  "kernelspec": {
   "display_name": "Python 3.9.7 ('tf26')",
   "language": "python",
   "name": "python3"
  },
  "language_info": {
   "codemirror_mode": {
    "name": "ipython",
    "version": 3
   },
   "file_extension": ".py",
   "mimetype": "text/x-python",
   "name": "python",
   "nbconvert_exporter": "python",
   "pygments_lexer": "ipython3",
   "version": "3.9.7"
  },
  "orig_nbformat": 4,
  "vscode": {
   "interpreter": {
    "hash": "1e329751ad3fbc78699a5e88abe00d39aafe605dca43acf9894240e004a03697"
   }
  }
 },
 "nbformat": 4,
 "nbformat_minor": 2
}
