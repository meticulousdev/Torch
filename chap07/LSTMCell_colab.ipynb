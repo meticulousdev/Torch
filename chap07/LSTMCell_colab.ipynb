{
  "cells": [
    {
      "cell_type": "code",
      "execution_count": 1,
      "id": "ef1d02a1",
      "metadata": {
        "id": "ef1d02a1"
      },
      "outputs": [],
      "source": [
        "import torch\n",
        "import torch.nn as nn\n",
        "import torchvision.transforms as transforms\n",
        "import torchvision.datasets as dataset\n",
        "from torch.autograd import Variable\n",
        "from torch.nn import Parameter\n",
        "from torch import Tensor\n",
        "from torch.utils.data import DataLoader\n",
        "import math"
      ]
    },
    {
      "cell_type": "code",
      "execution_count": 2,
      "id": "c2924c0b",
      "metadata": {
        "colab": {
          "base_uri": "https://localhost:8080/"
        },
        "id": "c2924c0b",
        "outputId": "f1d297e9-cdcb-4247-be76-1d97e1b4cccc"
      },
      "outputs": [
        {
          "name": "stdout",
          "output_type": "stream",
          "text": [
            "device: cuda\n"
          ]
        }
      ],
      "source": [
        "device = torch.device(\"cuda\" if torch.cuda.is_available() else \"cpu\")\n",
        "print(f\"device: {device}\")"
      ]
    },
    {
      "cell_type": "code",
      "execution_count": 3,
      "id": "4cedec7f",
      "metadata": {
        "colab": {
          "base_uri": "https://localhost:8080/"
        },
        "id": "4cedec7f",
        "outputId": "bdcc3fdd-6527-4b68-97a1-540809ac864b"
      },
      "outputs": [
        {
          "name": "stdout",
          "output_type": "stream",
          "text": [
            "<class 'torch.cuda.FloatTensor'>\n"
          ]
        }
      ],
      "source": [
        "cuda = True if torch.cuda.is_available() else False\n",
        "\n",
        "# TODO FloatTensor \n",
        "Tensor = torch.cuda.FloatTensor if cuda else torch.FloatTensor    \n",
        "print(Tensor)"
      ]
    },
    {
      "cell_type": "code",
      "execution_count": 4,
      "id": "d4a53464",
      "metadata": {
        "id": "d4a53464"
      },
      "outputs": [],
      "source": [
        "torch.manual_seed(125)\n",
        "if torch.cuda.is_available():\n",
        "    torch.cuda.manual_seed_all(125)"
      ]
    },
    {
      "cell_type": "code",
      "execution_count": 5,
      "id": "4f924588",
      "metadata": {
        "id": "4f924588"
      },
      "outputs": [],
      "source": [
        "import torchvision.transforms as transforms\n",
        "\n",
        "mnist_transform = transforms.Compose([\n",
        "    transforms.ToTensor(), \n",
        "    transforms.Normalize((0.5,), (1.0,))\n",
        "])"
      ]
    },
    {
      "cell_type": "code",
      "execution_count": 6,
      "id": "c392dde9",
      "metadata": {
        "colab": {
          "base_uri": "https://localhost:8080/"
        },
        "id": "c392dde9",
        "outputId": "00336d35-e1fd-43d6-eabc-bc0670d4ea26"
      },
      "outputs": [
        {
          "name": "stdout",
          "output_type": "stream",
          "text": [
            "Drive already mounted at /content/drive; to attempt to forcibly remount, call drive.mount(\"/content/drive\", force_remount=True).\n",
            "/content/drive/MyDrive/Colab Notebooks/Torch/chap07/data\n"
          ]
        }
      ],
      "source": [
        "from google.colab import drive\n",
        "drive.mount('/content/drive')\n",
        "\n",
        "%cd /content/drive/MyDrive/Colab\\ Notebooks/Torch/chap07/data"
      ]
    },
    {
      "cell_type": "code",
      "execution_count": 7,
      "id": "89954db1",
      "metadata": {
        "id": "89954db1"
      },
      "outputs": [],
      "source": [
        "from torchvision.datasets import MNIST\n",
        "\n",
        "# TODO download_root\n",
        "download_root = '/MNIST_DATASET/'\n",
        "\n",
        "train_dataset = MNIST(download_root, transform=mnist_transform, train=True, download=True)\n",
        "valid_dataset = MNIST(download_root, transform=mnist_transform, train=False, download=True)\n",
        "test_dataset = MNIST(download_root, transform=mnist_transform, train=False, download=True)"
      ]
    },
    {
      "cell_type": "code",
      "execution_count": 8,
      "id": "b1f7b5e0",
      "metadata": {
        "id": "b1f7b5e0"
      },
      "outputs": [],
      "source": [
        "batch_size = 64\n",
        "train_loader = DataLoader(dataset=train_dataset, \n",
        "                         batch_size=batch_size,\n",
        "                         shuffle=True)\n",
        "valid_loader = DataLoader(dataset=test_dataset, \n",
        "                         batch_size=batch_size,\n",
        "                         shuffle=True)\n",
        "test_loader = DataLoader(dataset=test_dataset, \n",
        "                         batch_size=batch_size,\n",
        "                         shuffle=True)"
      ]
    },
    {
      "cell_type": "code",
      "execution_count": 9,
      "id": "398f4215",
      "metadata": {
        "id": "398f4215"
      },
      "outputs": [],
      "source": [
        "batch_size = 100\n",
        "n_iters = 6000\n",
        "num_epochs = n_iters / (len(train_dataset) / batch_size)\n",
        "num_epochs = int(num_epochs)"
      ]
    },
    {
      "cell_type": "code",
      "execution_count": 10,
      "id": "f56f3138",
      "metadata": {
        "id": "f56f3138"
      },
      "outputs": [],
      "source": [
        "# TODO class LSTMCell & class LSTMModel\n",
        "# DONE UserWarning\n",
        "# UserWarning: nn.functional.sigmoid is deprecated. Use torch.sigmoid instead.\n",
        "#   warnings.warn(\"nn.functional.sigmoid is deprecated. Use torch.sigmoid instead.\")\n",
        "# UserWarning: nn.functional.tanh is deprecated. Use torch.tanh instead.\n",
        "#   warnings.warn(\"nn.functional.tanh is deprecated. Use torch.tanh instead.\")\n",
        "class LSTMCell(nn.Module):\n",
        "    def __init__(self, input_size, hidden_size, bias=True):\n",
        "        super(LSTMCell, self).__init__()\n",
        "        self.input_size = input_size\n",
        "        self.hidden_size = hidden_size\n",
        "        self.bias = bias\n",
        "        self.x2h = nn.Linear(input_size, 4 * hidden_size, bias=bias)\n",
        "        self.h2h = nn.Linear(hidden_size, 4 * hidden_size, bias=bias)\n",
        "        self.reset_parameters()\n",
        "\n",
        "    def reset_parameters(self):\n",
        "        std = 1.0 / math.sqrt(self.hidden_size)\n",
        "        for w in self.parameters():\n",
        "            w.data.uniform_(-std, std)\n",
        "    \n",
        "    def forward(self, x, hidden):        \n",
        "        hx, cx = hidden        \n",
        "        x = x.view(-1, x.size(1))\n",
        "        \n",
        "        gates = self.x2h(x) + self.h2h(hx)    \n",
        "        gates = gates.squeeze()        \n",
        "        ingate, forgetgate, cellgate, outgate = gates.chunk(4, 1)\n",
        "        \n",
        "        ingate = torch.sigmoid(ingate)\n",
        "        forgetgate = torch.sigmoid(forgetgate)\n",
        "        cellgate = torch.tanh(cellgate)\n",
        "        outgate = torch.sigmoid(outgate)\n",
        "        \n",
        "        cy = torch.mul(cx, forgetgate) +  torch.mul(ingate, cellgate)        \n",
        "        hy = torch.mul(outgate, torch.tanh(cy))        \n",
        "        return (hy, cy)"
      ]
    },
    {
      "cell_type": "code",
      "execution_count": 12,
      "id": "e4cfc2b1",
      "metadata": {
        "id": "e4cfc2b1"
      },
      "outputs": [],
      "source": [
        "class LSTMModel(nn.Module):\n",
        "    def __init__(self, input_dim, hidden_dim, layer_dim, output_dim, bias=True):\n",
        "        super(LSTMModel, self).__init__()\n",
        "        self.hidden_dim = hidden_dim\n",
        "         \n",
        "        self.layer_dim = layer_dim               \n",
        "        self.lstm = LSTMCell(input_dim, hidden_dim, layer_dim)          \n",
        "        self.fc = nn.Linear(hidden_dim, output_dim)\n",
        "         \n",
        "    def forward(self, x):        \n",
        "        if torch.cuda.is_available():\n",
        "            h0 = Variable(torch.zeros(self.layer_dim, x.size(0), self.hidden_dim).cuda())\n",
        "        else:\n",
        "            h0 = Variable(torch.zeros(self.layer_dim, x.size(0), self.hidden_dim))\n",
        "\n",
        "        if torch.cuda.is_available():\n",
        "            c0 = Variable(torch.zeros(self.layer_dim, x.size(0), self.hidden_dim).cuda())\n",
        "        else:\n",
        "            c0 = Variable(torch.zeros(self.layer_dim, x.size(0), hidden_dim))\n",
        "                           \n",
        "        outs = []        \n",
        "        cn = c0[0,:,:]\n",
        "        hn = h0[0,:,:]\n",
        "\n",
        "        for seq in range(x.size(1)):\n",
        "            hn, cn = self.lstm(x[:,seq,:], (hn,cn)) \n",
        "            outs.append(hn)\n",
        "                \n",
        "        out = outs[-1].squeeze()        \n",
        "        out = self.fc(out) \n",
        "        return out"
      ]
    },
    {
      "cell_type": "code",
      "execution_count": 13,
      "id": "6cf2c9e9",
      "metadata": {
        "id": "6cf2c9e9"
      },
      "outputs": [],
      "source": [
        "input_dim = 28\n",
        "hidden_dim = 128\n",
        "layer_dim = 1  \n",
        "output_dim = 10\n",
        " \n",
        "model = LSTMModel(input_dim, hidden_dim, layer_dim, output_dim)\n",
        "if torch.cuda.is_available():\n",
        "    model.cuda()\n",
        "criterion = nn.CrossEntropyLoss()\n",
        "learning_rate = 0.1 \n",
        "optimizer = torch.optim.SGD(model.parameters(), lr=learning_rate)"
      ]
    },
    {
      "cell_type": "code",
      "execution_count": 14,
      "id": "d7a6949f",
      "metadata": {
        "colab": {
          "base_uri": "https://localhost:8080/"
        },
        "id": "d7a6949f",
        "outputId": "f3b86dcd-8a00-4bbd-af1d-f8091c4ec676"
      },
      "outputs": [
        {
          "name": "stdout",
          "output_type": "stream",
          "text": [
            "Iteration: 500. Loss: 2.237457275390625. Accuracy: 21.420000076293945\n",
            "Iteration: 1000. Loss: 0.9968994855880737. Accuracy: 74.94999694824219\n",
            "Iteration: 1500. Loss: 0.42673957347869873. Accuracy: 88.13999938964844\n",
            "Iteration: 2000. Loss: 0.30981600284576416. Accuracy: 93.56999969482422\n",
            "Iteration: 2500. Loss: 0.0558248832821846. Accuracy: 95.69000244140625\n",
            "Iteration: 3000. Loss: 0.09873700886964798. Accuracy: 95.58000183105469\n",
            "Iteration: 3500. Loss: 0.08254366368055344. Accuracy: 96.8499984741211\n",
            "Iteration: 4000. Loss: 0.03308983892202377. Accuracy: 97.08000183105469\n",
            "Iteration: 4500. Loss: 0.049307383596897125. Accuracy: 97.08000183105469\n",
            "Iteration: 5000. Loss: 0.08068697154521942. Accuracy: 96.69999694824219\n",
            "Iteration: 5500. Loss: 0.12790139019489288. Accuracy: 97.30999755859375\n",
            "Iteration: 6000. Loss: 0.007093742024153471. Accuracy: 97.66000366210938\n",
            "Iteration: 6500. Loss: 0.011727366596460342. Accuracy: 97.63999938964844\n",
            "Iteration: 7000. Loss: 0.008610538206994534. Accuracy: 98.06999969482422\n",
            "Iteration: 7500. Loss: 0.027341270819306374. Accuracy: 97.8499984741211\n",
            "Iteration: 8000. Loss: 0.10305538773536682. Accuracy: 97.5199966430664\n",
            "Iteration: 8500. Loss: 0.007204337045550346. Accuracy: 98.13999938964844\n",
            "Iteration: 9000. Loss: 0.012087937444448471. Accuracy: 97.4800033569336\n"
          ]
        }
      ],
      "source": [
        "seq_dim = 28 \n",
        "loss_list = []\n",
        "iter = 0\n",
        "for epoch in range(num_epochs):\n",
        "    for i, (images, labels) in enumerate(train_loader):          \n",
        "        if torch.cuda.is_available():\n",
        "            images = Variable(images.view(-1, seq_dim, input_dim).cuda())\n",
        "            labels = Variable(labels.cuda())\n",
        "        else:\n",
        "            images = Variable(images.view(-1, seq_dim, input_dim))\n",
        "            labels = Variable(labels)\n",
        "          \n",
        "        optimizer.zero_grad()\n",
        "        outputs = model(images)\n",
        "        loss = criterion(outputs, labels)\n",
        "\n",
        "        if torch.cuda.is_available():\n",
        "            loss.cuda()\n",
        "\n",
        "        loss.backward()\n",
        "        optimizer.step()        \n",
        "        loss_list.append(loss.item())\n",
        "        iter += 1\n",
        "         \n",
        "        if iter % 500 == 0:         \n",
        "            correct = 0\n",
        "            total = 0\n",
        "            for images, labels in valid_loader:\n",
        "                if torch.cuda.is_available():\n",
        "                    images = Variable(images.view(-1, seq_dim, input_dim).cuda())\n",
        "                else:\n",
        "                    images = Variable(images.view(-1 , seq_dim, input_dim))\n",
        "                \n",
        "                outputs = model(images)\n",
        "                _, predicted = torch.max(outputs.data, 1)\n",
        "                 \n",
        "                total += labels.size(0)\n",
        "                if torch.cuda.is_available():\n",
        "                    correct += (predicted.cpu() == labels.cpu()).sum()\n",
        "                else:\n",
        "                    correct += (predicted == labels).sum()\n",
        "             \n",
        "            accuracy = 100 * correct / total\n",
        "            print('Iteration: {}. Loss: {}. Accuracy: {}'.format(iter, loss.item(), accuracy))"
      ]
    },
    {
      "cell_type": "code",
      "execution_count": 21,
      "id": "c4f0348f",
      "metadata": {
        "id": "c4f0348f"
      },
      "outputs": [],
      "source": [
        "def evaluate(model, val_iter):    \n",
        "    corrects, total, total_loss = 0, 0, 0\n",
        "    model.eval()\n",
        "    for images, labels in val_iter:\n",
        "        if torch.cuda.is_available():\n",
        "            images = Variable(images.view(-1, seq_dim, input_dim).cuda())\n",
        "        else:\n",
        "            images = Variable(images.view(-1 , seq_dim, input_dim)).to(device)\n",
        "        labels = labels.cuda()        \n",
        "        logit = model(images).cuda()\n",
        "        # F > torch.nn.functional\n",
        "        loss = torch.nn.functional.cross_entropy(logit, labels, reduction = \"sum\")\n",
        "        _, predicted = torch.max(logit.data, 1)\n",
        "        total += labels.size(0)\n",
        "        total_loss += loss.item()\n",
        "        corrects += (predicted == labels).sum()\n",
        "\n",
        "    avg_loss = total_loss / len(val_iter.dataset)\n",
        "    avg_accuracy = corrects / total\n",
        "    return avg_loss, avg_accuracy"
      ]
    },
    {
      "cell_type": "code",
      "execution_count": 22,
      "id": "edb78da9",
      "metadata": {
        "colab": {
          "base_uri": "https://localhost:8080/"
        },
        "id": "edb78da9",
        "outputId": "25947988-a96d-4f86-a851-09cdc406ae62"
      },
      "outputs": [
        {
          "name": "stdout",
          "output_type": "stream",
          "text": [
            "Test Loss:  0.07 | Test Accuracy:  0.98\n"
          ]
        }
      ],
      "source": [
        "test_loss, test_acc = evaluate(model,test_loader)\n",
        "print(\"Test Loss: %5.2f | Test Accuracy: %5.2f\" % (test_loss, test_acc))"
      ]
    }
  ],
  "metadata": {
    "accelerator": "GPU",
    "colab": {
      "collapsed_sections": [],
      "provenance": []
    },
    "kernelspec": {
      "display_name": "Python 3.9.7 64-bit ('envs')",
      "language": "python",
      "name": "python3"
    },
    "language_info": {
      "codemirror_mode": {
        "name": "ipython",
        "version": 3
      },
      "file_extension": ".py",
      "mimetype": "text/x-python",
      "name": "python",
      "nbconvert_exporter": "python",
      "pygments_lexer": "ipython3",
      "version": "3.9.7"
    },
    "vscode": {
      "interpreter": {
        "hash": "05a7296383cf9341d653c3660828268d4e22ebcb8cdb5954c5911d219d176b19"
      }
    }
  },
  "nbformat": 4,
  "nbformat_minor": 5
}
