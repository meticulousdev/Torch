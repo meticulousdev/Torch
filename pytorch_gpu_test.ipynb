{
 "cells": [
  {
   "cell_type": "code",
   "execution_count": null,
   "metadata": {},
   "outputs": [],
   "source": [
    "import torch\n",
    "\n",
    "print(f\"mps.is_built(): {torch.backends.mps.is_built()}\")\n",
    "print(f\"mps.is_available(): {torch.backends.mps.is_available()}\")"
   ]
  }
 ],
 "metadata": {
  "language_info": {
   "name": "python"
  },
  "orig_nbformat": 4
 },
 "nbformat": 4,
 "nbformat_minor": 2
}
