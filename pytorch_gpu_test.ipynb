{
 "cells": [
  {
   "cell_type": "code",
   "execution_count": 1,
   "metadata": {},
   "outputs": [
    {
     "name": "stdout",
     "output_type": "stream",
     "text": [
      "1.12.1\n"
     ]
    }
   ],
   "source": [
    "import torch\n",
    "\n",
    "print(torch.__version__)"
   ]
  },
  {
   "cell_type": "code",
   "execution_count": 2,
   "metadata": {},
   "outputs": [
    {
     "name": "stdout",
     "output_type": "stream",
     "text": [
      "Windows or Linux\n",
      "cuda.is_available(): True\n",
      "device name: NVIDIA GeForce RTX 2060 SUPER\n"
     ]
    }
   ],
   "source": [
    "if torch.backends.mps.is_built():\n",
    "    print(f\"macOS\")\n",
    "    print(f\"mps.is_built(): {torch.backends.mps.is_built()}\")\n",
    "    print(f\"mps.is_available(): {torch.backends.mps.is_available()}\")\n",
    "\n",
    "if torch.cuda.is_available():\n",
    "    print(\"Windows or Linux\")\n",
    "    print(f\"cuda.is_available(): {torch.cuda.is_available()}\")\n",
    "    print(f\"device name: {torch.cuda.get_device_name()}\")   "
   ]
  }
 ],
 "metadata": {
  "kernelspec": {
   "display_name": "Python 3.9.7 ('torch')",
   "language": "python",
   "name": "python3"
  },
  "language_info": {
   "codemirror_mode": {
    "name": "ipython",
    "version": 3
   },
   "file_extension": ".py",
   "mimetype": "text/x-python",
   "name": "python",
   "nbconvert_exporter": "python",
   "pygments_lexer": "ipython3",
   "version": "3.9.7"
  },
  "orig_nbformat": 4,
  "vscode": {
   "interpreter": {
    "hash": "154dde703ec2c794d0db7ddcb528e0a692c3a7c69513009d2a5980b694bda8e9"
   }
  }
 },
 "nbformat": 4,
 "nbformat_minor": 2
}
